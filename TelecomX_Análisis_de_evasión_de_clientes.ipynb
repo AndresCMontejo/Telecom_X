{
  "nbformat": 4,
  "nbformat_minor": 0,
  "metadata": {
    "colab": {
      "provenance": [],
      "authorship_tag": "ABX9TyP3XCOSimntlkvTmuP3VyUP",
      "include_colab_link": true
    },
    "kernelspec": {
      "name": "python3",
      "display_name": "Python 3"
    },
    "language_info": {
      "name": "python"
    }
  },
  "cells": [
    {
      "cell_type": "markdown",
      "metadata": {
        "id": "view-in-github",
        "colab_type": "text"
      },
      "source": [
        "<a href=\"https://colab.research.google.com/github/AndresCMontejo/Telecom_X/blob/main/TelecomX_An%C3%A1lisis_de_evasi%C3%B3n_de_clientes.ipynb\" target=\"_parent\"><img src=\"https://colab.research.google.com/assets/colab-badge.svg\" alt=\"Open In Colab\"/></a>"
      ]
    },
    {
      "cell_type": "markdown",
      "source": [
        "## **ANALISIS DE EVASIÓN DE CLIENTES**"
      ],
      "metadata": {
        "id": "yu-PHpXRi_z-"
      }
    },
    {
      "cell_type": "markdown",
      "source": [
        "### **Extracción de datos**"
      ],
      "metadata": {
        "id": "Hc9Ilhv_jGlu"
      }
    },
    {
      "cell_type": "code",
      "execution_count": null,
      "metadata": {
        "id": "qqu5vmZlizy2"
      },
      "outputs": [],
      "source": []
    }
  ]
}